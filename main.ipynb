{
 "cells": [
  {
   "cell_type": "code",
   "execution_count": 1,
   "metadata": {},
   "outputs": [
    {
     "name": "stderr",
     "output_type": "stream",
     "text": [
      "c:\\Users\\Łukasz\\Desktop\\Lol2-xD\\.venv\\lib\\site-packages\\tqdm\\auto.py:21: TqdmWarning: IProgress not found. Please update jupyter and ipywidgets. See https://ipywidgets.readthedocs.io/en/stable/user_install.html\n",
      "  from .autonotebook import tqdm as notebook_tqdm\n"
     ]
    }
   ],
   "source": [
    "import torch\n",
    "from PIL import Image\n",
    "import open_clip\n",
    "import numpy as np"
   ]
  },
  {
   "cell_type": "code",
   "execution_count": 2,
   "metadata": {},
   "outputs": [],
   "source": [
    "import os\n",
    "import glob\n",
    "import shutil"
   ]
  },
  {
   "cell_type": "code",
   "execution_count": 3,
   "metadata": {},
   "outputs": [
    {
     "data": {
      "text/plain": [
       "{'a cat': 'classes\\\\a-cat',\n",
       " 'a diagram': 'classes\\\\a-diagram',\n",
       " 'a dog': 'classes\\\\a-dog',\n",
       " 'ball': 'classes\\\\ball',\n",
       " 'men': 'classes\\\\men'}"
      ]
     },
     "execution_count": 3,
     "metadata": {},
     "output_type": "execute_result"
    }
   ],
   "source": [
    "CLASSES_FOLDER = 'classes'\n",
    "def load_classes():\n",
    "    PRE_LOADED_CLASES = [] #could be something: ['a cat', 'a dog', 'a diagram']\n",
    "    if PRE_LOADED_CLASES:\n",
    "        classes_return = {}\n",
    "        for class_name in PRE_LOADED_CLASES:\n",
    "            new_path = os.path.join(CLASSES_FOLDER, class_name.replace(' ', '-'))\n",
    "            os.makedirs(new_path, exist_ok=True)\n",
    "            classes_return[class_name] = new_path\n",
    "        return classes_return\n",
    "    \n",
    "    y_paths = glob.glob(os.path.join(CLASSES_FOLDER, '*'))\n",
    "    return {os.path.basename(path).replace('-', ' '): path for path in y_paths}\n",
    "\n",
    "load_classes() "
   ]
  },
  {
   "cell_type": "code",
   "execution_count": 6,
   "metadata": {},
   "outputs": [],
   "source": [
    "IMGAGES_PATH = 'data'\n",
    "def load_images():\n",
    "    images_paths = glob.glob(os.path.join(IMGAGES_PATH, '*')) #! .jpg????????\n",
    "    path_dict = {}\n",
    "    for path in images_paths:\n",
    "        try:\n",
    "            path_dict[path] = Image.open(path)\n",
    "        except Exception as e:\n",
    "            print(e)\n",
    "    return path_dict"
   ]
  },
  {
   "cell_type": "code",
   "execution_count": 7,
   "metadata": {},
   "outputs": [
    {
     "name": "stdout",
     "output_type": "stream",
     "text": [
      "cannot identify image file 'data\\\\czlowiek-gra-w-pilke-nozna_1368-2994.avif'\n",
      "cannot identify image file 'data\\\\przystojny-mezczyzna-otwiera-okno-w-domu-aby-odswiezyc-pokoj_264277-1194.avif'\n"
     ]
    },
    {
     "name": "stderr",
     "output_type": "stream",
     "text": [
      "c:\\Users\\Łukasz\\Desktop\\Lol2-xD\\.venv\\lib\\site-packages\\torch\\amp\\autocast_mode.py:250: UserWarning: User provided device_type of 'cuda', but CUDA is not available. Disabling\n",
      "  warnings.warn(\n"
     ]
    },
    {
     "name": "stdout",
     "output_type": "stream",
     "text": [
      "Image: data\\CLIP.png classified as: a diagram\n",
      "Image: data\\czlowiek-gra-w-pilke-nozna_1368-2994.jpg classified as: ball\n",
      "Image: data\\przystojny-mezczyzna-otwiera-okno-w-domu-aby-odswiezyc-pokoj_264277-1194.jpg classified as: men\n"
     ]
    }
   ],
   "source": [
    "model, _, preprocess = open_clip.create_model_and_transforms('ViT-B-32', pretrained='laion2b_s34b_b79k')\n",
    "tokenizer = open_clip.get_tokenizer('ViT-B-32')\n",
    "\n",
    "path_to_images_link = load_images()\n",
    "classes_to_path_link = load_classes()\n",
    "classes = list(classes_to_path_link.keys())\n",
    "\n",
    "for path_img, x_img in path_to_images_link.items():\n",
    "    image = preprocess(x_img).unsqueeze(0)\n",
    "    text = tokenizer(classes)\n",
    "\n",
    "    with torch.no_grad(), torch.cuda.amp.autocast():\n",
    "        image_features = model.encode_image(image)\n",
    "        text_features = model.encode_text(text)\n",
    "        image_features /= image_features.norm(dim=-1, keepdim=True)\n",
    "        text_features /= text_features.norm(dim=-1, keepdim=True)\n",
    "\n",
    "        text_probs = (100.0 * image_features @ text_features.T).softmax(dim=-1)\n",
    "\n",
    "    \n",
    "    class_idx = np.argmax(text_probs, axis=1)  # [[1., 0., 0.]] -> 0\n",
    "    class_name = classes[class_idx]\n",
    "    \n",
    "    print(f\"Image: {path_img} classified as: {class_name}\") \n",
    "    shutil.move(path_img, classes_to_path_link[class_name])\n"
   ]
  },
  {
   "cell_type": "code",
   "execution_count": 14,
   "metadata": {},
   "outputs": [
    {
     "name": "stdout",
     "output_type": "stream",
     "text": [
      "File: classes\\a-diagram\\CLIP.png moved to data\n",
      "File: classes\\ball\\czlowiek-gra-w-pilke-nozna_1368-2994.jpg moved to data\n",
      "File: classes\\men\\przystojny-mezczyzna-otwiera-okno-w-domu-aby-odswiezyc-pokoj_264277-1194.jpg moved to data\n"
     ]
    }
   ],
   "source": [
    "def restart_classes():\n",
    "    class_paths = glob.glob(os.path.join(CLASSES_FOLDER, '*', '*'), recursive=True)\n",
    "    for img_path in class_paths:\n",
    "        shutil.move(img_path, IMGAGES_PATH)\n",
    "        print(f'File: {img_path} moved to {IMGAGES_PATH}')\n",
    "\n",
    "# restart_classes()"
   ]
  }
 ],
 "metadata": {
  "kernelspec": {
   "display_name": ".venv",
   "language": "python",
   "name": "python3"
  },
  "language_info": {
   "codemirror_mode": {
    "name": "ipython",
    "version": 3
   },
   "file_extension": ".py",
   "mimetype": "text/x-python",
   "name": "python",
   "nbconvert_exporter": "python",
   "pygments_lexer": "ipython3",
   "version": "3.8.2"
  }
 },
 "nbformat": 4,
 "nbformat_minor": 2
}
